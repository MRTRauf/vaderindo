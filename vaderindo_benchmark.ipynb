{
 "cells": [
  {
   "cell_type": "code",
   "execution_count": 2,
   "metadata": {
    "ExecuteTime": {
     "end_time": "2023-05-28T14:47:35.676192Z",
     "start_time": "2023-05-28T14:47:35.626443Z"
    },
    "collapsed": false
   },
   "outputs": [
    {
     "ename": "ModuleNotFoundError",
     "evalue": "No module named 'vaderindo.finvader'",
     "output_type": "error",
     "traceback": [
      "\u001b[1;31m---------------------------------------------------------------------------\u001b[0m",
      "\u001b[1;31mModuleNotFoundError\u001b[0m                       Traceback (most recent call last)",
      "\u001b[1;32m<ipython-input-2-9fb4d5c536d4>\u001b[0m in \u001b[0;36m<module>\u001b[1;34m\u001b[0m\n\u001b[0;32m      1\u001b[0m \u001b[1;32mimport\u001b[0m \u001b[0mpandas\u001b[0m \u001b[1;32mas\u001b[0m \u001b[0mpd\u001b[0m\u001b[1;33m\u001b[0m\u001b[1;33m\u001b[0m\u001b[0m\n\u001b[1;32m----> 2\u001b[1;33m \u001b[1;32mfrom\u001b[0m \u001b[0mvaderindo\u001b[0m \u001b[1;32mimport\u001b[0m \u001b[0mvaderindo\u001b[0m\u001b[1;33m\u001b[0m\u001b[1;33m\u001b[0m\u001b[0m\n\u001b[0m\u001b[0;32m      3\u001b[0m \u001b[0mdata\u001b[0m \u001b[1;33m=\u001b[0m \u001b[0mpd\u001b[0m\u001b[1;33m.\u001b[0m\u001b[0mread_csv\u001b[0m\u001b[1;33m(\u001b[0m\u001b[1;34m'testing_data.csv'\u001b[0m\u001b[1;33m,\u001b[0m\u001b[0mindex_col\u001b[0m\u001b[1;33m=\u001b[0m\u001b[1;32mNone\u001b[0m\u001b[1;33m)\u001b[0m\u001b[1;33m\u001b[0m\u001b[1;33m\u001b[0m\u001b[0m\n",
      "\u001b[1;32mc:\\Users\\Andri Fabriansyah\\Downloads\\FinVADER-main\\FinVADER-main\\vaderindo\\__init__.py\u001b[0m in \u001b[0;36m<module>\u001b[1;34m\u001b[0m\n\u001b[0;32m      2\u001b[0m \u001b[1;33m\u001b[0m\u001b[0m\n\u001b[0;32m      3\u001b[0m \u001b[1;33m\u001b[0m\u001b[0m\n\u001b[1;32m----> 4\u001b[1;33m \u001b[1;32mfrom\u001b[0m \u001b[1;33m.\u001b[0m\u001b[0mfinvader\u001b[0m \u001b[1;32mimport\u001b[0m \u001b[1;33m*\u001b[0m\u001b[1;33m\u001b[0m\u001b[1;33m\u001b[0m\u001b[0m\n\u001b[0m",
      "\u001b[1;31mModuleNotFoundError\u001b[0m: No module named 'vaderindo.finvader'"
     ]
    }
   ],
   "source": [
    "import pandas as pd\n",
    "from vaderindo import vaderindo\n",
    "data = pd.read_csv('testing_data.csv',index_col=None)"
   ]
  },
  {
   "cell_type": "code",
   "execution_count": null,
   "metadata": {
    "ExecuteTime": {
     "end_time": "2023-05-28T14:48:05.446195Z",
     "start_time": "2023-05-28T14:47:35.672193Z"
    },
    "collapsed": false
   },
   "outputs": [],
   "source": [
    "# use the classifier\n",
    "import numpy as np\n",
    "data['vaderindo'] = data.text.apply(vaderindo,use_sentibignomics = True, use_henry = True, indicator=\"compound\")"
   ]
  },
  {
   "cell_type": "code",
   "execution_count": null,
   "metadata": {
    "ExecuteTime": {
     "end_time": "2023-05-28T14:48:05.462755Z",
     "start_time": "2023-05-28T14:48:05.446195Z"
    },
    "collapsed": false
   },
   "outputs": [],
   "source": [
    "# discretize compound indicator into 3 scores\n",
    "conditions = [\n",
    "    (data['vaderindo'] > 0.33),\n",
    "    (data['vaderindo']> - 0.33) & (data['vaderindo'] < 0.33),\n",
    "    (data['vaderindo'] < - 0.33)\n",
    "]\n",
    "values = [1, 0, -1]\n",
    "data['vaderindo'] = np.select(conditions, values)"
   ]
  },
  {
   "cell_type": "code",
   "execution_count": null,
   "metadata": {
    "ExecuteTime": {
     "end_time": "2023-05-28T14:48:05.476569Z",
     "start_time": "2023-05-28T14:48:05.461755Z"
    },
    "collapsed": false
   },
   "outputs": [],
   "source": [
    "# calculate true positives (TP), true negatives (TN), false positives (FP) and false negatives (FN)\n",
    "data['vaderindo_correct'] = np.where((data['label'] == data['vaderindo']), 1, 0)\n",
    "data['vaderindo_TP'] = np.where((data['label'] == 1) & (data['vaderindo'] == 1), 1, 0)\n",
    "data['vaderindo_TN'] = np.where((data['label'] == -1) & (data['vaderindo'] == -1), 1, 0)\n",
    "data['vaderindo_FP'] = np.where((data['label'] != 1) & (data['vaderindo'] == 1), 1, 0)\n",
    "data['vaderindo_FN'] = np.where((data['label'] != -1) & (data['vaderindo'] == -1), 1, 0)"
   ]
  },
  {
   "cell_type": "code",
   "execution_count": null,
   "metadata": {
    "ExecuteTime": {
     "end_time": "2023-05-28T14:48:05.491035Z",
     "start_time": "2023-05-28T14:48:05.475564Z"
    },
    "collapsed": false
   },
   "outputs": [
    {
     "name": "stdout",
     "output_type": "stream",
     "text": [
      "FinVADER accuracy is: 69.36 %\n",
      "FinVADER precision is: 60.57 %\n",
      "FinVADER recall is: 85.45 %\n",
      "FinVADER F1 score is: 70.88 %\n"
     ]
    }
   ],
   "source": [
    "# print accuracy, precision, recall, F1 score\n",
    "print(\"vaderindo accuracy is:\",  round((((data['vaderindo_correct'].sum()) / len(data))) * 100, 2), \"%\")\n",
    "print(\"vaderindo precision is:\",  round((( data['vaderindo_TP'].sum() / ((data['vaderindo_TP'].sum() + data['vaderindo_FP'].sum())))) * 100, 2), \"%\")\n",
    "print(\"vaderindo recall is:\",  round((( data['vaderindo_TP'].sum() / ((data['vaderindo_TP'].sum() + data['vaderindo_FN'].sum())))) * 100, 2), \"%\")\n",
    "print(\"vaderindo F1 score is:\",  2 * round(\n",
    "    (((data['vaderindo_TP'].sum() / ((data['vaderindo_TP'].sum() + data['vaderindo_FP'].sum()))) *\n",
    "      (((data['vaderindo_TP'].sum() / ((data['vaderindo_TP'].sum() + data['vaderindo_FN'].sum())))))) /\n",
    "     (((data['vaderindo_TP'].sum() / ((data['vaderindo_TP'].sum() + data['vaderindo_FP'].sum()))) +\n",
    "       (((data['vaderindo_TP'].sum() / ((data['vaderindo_TP'].sum() + data['vaderindo_FN'].sum())))))))\n",
    "     )* 100, 2), \"%\")"
   ]
  },
  {
   "cell_type": "code",
   "execution_count": null,
   "metadata": {
    "ExecuteTime": {
     "end_time": "2023-05-28T14:48:05.534466Z",
     "start_time": "2023-05-28T14:48:05.493036Z"
    },
    "collapsed": false
   },
   "outputs": [],
   "source": [
    "# baseline VADER\n",
    "# discretize compound indicator into 3 scores\n",
    "from nltk.sentiment.vader import SentimentIntensityAnalyzer\n",
    "baseline = SentimentIntensityAnalyzer()\n",
    "\n",
    "def sentiment_vader(sentence):\n",
    "\n",
    "    sentiment_dict = baseline.polarity_scores(sentence)\n",
    "\n",
    "    compound = sentiment_dict['compound']\n",
    "\n",
    "    if sentiment_dict['compound'] > 0.33 :\n",
    "        overall_sentiment = 1\n",
    "\n",
    "    elif sentiment_dict['compound'] < - 0.33 :\n",
    "        overall_sentiment = - 1\n",
    "\n",
    "    else :\n",
    "        overall_sentiment = 0\n",
    "\n",
    "    return overall_sentiment"
   ]
  },
  {
   "cell_type": "code",
   "execution_count": null,
   "metadata": {
    "ExecuteTime": {
     "end_time": "2023-05-28T14:48:06.205572Z",
     "start_time": "2023-05-28T14:48:05.535364Z"
    },
    "collapsed": false
   },
   "outputs": [],
   "source": [
    "# use the classifier\n",
    "data['vader'] = data.text.apply(sentiment_vader)"
   ]
  },
  {
   "cell_type": "code",
   "execution_count": null,
   "metadata": {
    "ExecuteTime": {
     "end_time": "2023-05-28T14:48:06.250866Z",
     "start_time": "2023-05-28T14:48:06.222382Z"
    },
    "collapsed": false
   },
   "outputs": [],
   "source": [
    "# calculate true positives (TP), true negatives (TN), false positives (FP) and false negatives (FN)\n",
    "data['vader_correct'] = np.where((data['label'] == data['vader']), 1, 0)\n",
    "data['vader_TP'] = np.where((data['label'] == 1) & (data['vader'] == 1), 1, 0)\n",
    "data['vader_TN'] = np.where((data['label'] == -1) & (data['vader'] == -1), 1, 0)\n",
    "data['vader_FP'] = np.where((data['label'] != 1) & (data['vader'] == 1), 1, 0)\n",
    "data['vader_FN'] = np.where((data['label'] != -1) & (data['vader'] == -1), 1, 0)"
   ]
  },
  {
   "cell_type": "code",
   "execution_count": null,
   "metadata": {
    "ExecuteTime": {
     "end_time": "2023-05-28T14:48:06.257558Z",
     "start_time": "2023-05-28T14:48:06.236586Z"
    },
    "collapsed": false
   },
   "outputs": [
    {
     "name": "stdout",
     "output_type": "stream",
     "text": [
      "VADER accuracy is: 58.75 %\n",
      "VADER precision is: 44.41 %\n",
      "VADER recall is: 88.28 %\n",
      "VADER F1 score is: 59.1 %\n"
     ]
    }
   ],
   "source": [
    "# print accuracy, precision, recall, F1 score\n",
    "print(\"VADER accuracy is:\",  round((((data['vader_correct'].sum()) / len(data))) * 100, 2), \"%\")\n",
    "print(\"VADER precision is:\",  round((( data['vader_TP'].sum() / ((data['vader_TP'].sum() + data['vader_FP'].sum())))) * 100, 2), \"%\")\n",
    "print(\"VADER recall is:\",  round((( data['vader_TP'].sum() / ((data['vader_TP'].sum() + data['vader_FN'].sum())))) * 100, 2), \"%\")\n",
    "print(\"VADER F1 score is:\",  2 * round(\n",
    "    (((data['vader_TP'].sum() / ((data['vader_TP'].sum() + data['vader_FP'].sum()))) *\n",
    "      (((data['vader_TP'].sum() / ((data['vader_TP'].sum() + data['vader_FN'].sum())))))) /\n",
    "     (((data['vader_TP'].sum() / ((data['vader_TP'].sum() + data['vader_FP'].sum()))) +\n",
    "       (((data['vader_TP'].sum() / ((data['vader_TP'].sum() + data['vader_FN'].sum())))))))\n",
    "     )* 100, 2), \"%\")"
   ]
  }
 ],
 "metadata": {
  "kernelspec": {
   "display_name": "Python 3",
   "language": "python",
   "name": "python3"
  },
  "language_info": {
   "codemirror_mode": {
    "name": "ipython",
    "version": 3
   },
   "file_extension": ".py",
   "mimetype": "text/x-python",
   "name": "python",
   "nbconvert_exporter": "python",
   "pygments_lexer": "ipython3",
   "version": "3.8.3"
  }
 },
 "nbformat": 4,
 "nbformat_minor": 0
}
